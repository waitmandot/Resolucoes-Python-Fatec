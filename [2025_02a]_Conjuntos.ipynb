{
  "cells": [
    {
      "cell_type": "markdown",
      "metadata": {
        "id": "IWT9kBSMTj2O"
      },
      "source": [
        "![image.png](data:image/png;base64,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)\n",
        "# Set\n",
        "### Linguagem de Programação (Prof. Dr. Henrique Dezani)\n",
        "Curso de Tecnologia em Análise e Desenvolvimento de Sistemas\n",
        "\n",
        "Faculdade de Tecnologia de São José do Rio Preto"
      ]
    },
    {
      "cell_type": "markdown",
      "metadata": {
        "id": "Bu_cUAtKULLJ"
      },
      "source": [
        "## 1. Set (Conjunto)\n",
        "Um **set** (conjunto) é como um dicionário sem os valores, apenas com as chaves. Como em um dicionário, cada chave deve ser única. Você pode utilizar um **set** quando quer apenas saber que existe algo e nada mais sobre isso. Use um dicionário se desejar anexar algumas informações à chave como um valor.\n",
        "Suponha que você adote a união de dois conjuntos que possuem algumas chaves em comum. Como um conjunto deve conter apenas um de cada item, a união de dois conjuntos conterá apenas um de cada chave. O conjunto nulo ou vazio é um conjunto com zero elementos."
      ]
    },
    {
      "cell_type": "markdown",
      "metadata": {
        "id": "tJdpXXXCsFJK"
      },
      "source": [
        "### 1.1. Criar um conjunto\n",
        "Para criar um conjunto, use a função set() ou coloque um ou mais valores separados por vírgula entre chaves, conforme mostrado no exemplo abaixo:"
      ]
    },
    {
      "cell_type": "code",
      "execution_count": null,
      "metadata": {
        "id": "6mU5R2TD2I49"
      },
      "outputs": [],
      "source": [
        "type(set())"
      ]
    },
    {
      "cell_type": "code",
      "execution_count": 1,
      "metadata": {
        "id": "1CZttoUt2LH_"
      },
      "outputs": [
        {
          "data": {
            "text/plain": [
              "set"
            ]
          },
          "execution_count": 1,
          "metadata": {},
          "output_type": "execute_result"
        }
      ],
      "source": [
        "type({1, 2})"
      ]
    },
    {
      "cell_type": "code",
      "execution_count": 2,
      "metadata": {
        "id": "YRMeMvIjsSM5"
      },
      "outputs": [],
      "source": [
        "conjunto_vazio = set()"
      ]
    },
    {
      "cell_type": "code",
      "execution_count": 3,
      "metadata": {
        "id": "x-PV4otBtdt0"
      },
      "outputs": [
        {
          "name": "stdout",
          "output_type": "stream",
          "text": [
            "set()\n"
          ]
        }
      ],
      "source": [
        "print(conjunto_vazio)"
      ]
    },
    {
      "cell_type": "code",
      "execution_count": null,
      "metadata": {
        "id": "b1Q7IPvXseyb"
      },
      "outputs": [],
      "source": [
        "numeros_pares = {0, 2, 4, 6, 8}"
      ]
    },
    {
      "cell_type": "code",
      "execution_count": null,
      "metadata": {
        "id": "SOkEiYtXtics"
      },
      "outputs": [],
      "source": [
        "print(numeros_pares)"
      ]
    },
    {
      "cell_type": "code",
      "execution_count": null,
      "metadata": {
        "id": "2HspK3bztjay"
      },
      "outputs": [],
      "source": [
        "print(type(numeros_pares))"
      ]
    },
    {
      "cell_type": "code",
      "execution_count": null,
      "metadata": {
        "id": "1LtI8uaUmAiY"
      },
      "outputs": [
        {
          "name": "stdout",
          "output_type": "stream",
          "text": [
            "<class 'set'>\n"
          ]
        }
      ],
      "source": [
        "x = \n",
        "print(type(x))"
      ]
    },
    {
      "cell_type": "markdown",
      "metadata": {
        "id": "iYw7aBfLtD1w"
      },
      "source": [
        "Além disso, é importante prestar atenção que, como `[]` cria uma lista vazia, você pode esperar que {} crie um conjunto vazio. Em vez disso, {} cria um dicionário vazio. É também por isso que o interpretador imprime um conjunto vazio como set() em vez de {}."
      ]
    },
    {
      "cell_type": "markdown",
      "metadata": {
        "id": "FSPvkWXKtnHt"
      },
      "source": [
        "### 1.2. Converter de outros tipos de dados para conjunto com `set()`\n",
        "Você pode criar um conjunto a partir de uma lista, string (sequência), tupla ou dicionário, descartando quaisquer valores duplicados. Primeiro, vamos dar uma olhada em uma string com mais de uma ocorrência de algumas letras:"
      ]
    },
    {
      "cell_type": "code",
      "execution_count": null,
      "metadata": {
        "id": "oCHRvkCMt2Zu"
      },
      "outputs": [],
      "source": [
        "set('carta')"
      ]
    },
    {
      "cell_type": "code",
      "execution_count": null,
      "metadata": {
        "id": "mn5p-KZOuk_o"
      },
      "outputs": [],
      "source": [
        "# convertendo uma lista para conjunto:\n",
        "lista = ['Fulano', 'Ciclano', 'Beltrano', 'Ciclano']\n",
        "list(set(lista))"
      ]
    },
    {
      "cell_type": "code",
      "execution_count": null,
      "metadata": {
        "id": "FOTGXI65uwCN"
      },
      "outputs": [],
      "source": [
        "# convertendo uma tupla para conjunto:\n",
        "tupla = ('Fulano', 'Ciclano', 'Beltrano', 'Ciclano')\n",
        "set(tupla)"
      ]
    },
    {
      "cell_type": "code",
      "execution_count": null,
      "metadata": {
        "id": "KRbJ26Y6u1Qq"
      },
      "outputs": [],
      "source": [
        "# convertendo um dicionário para conjunto:\n",
        "dicionario = {'chave1':'valor1', 'chave2': 'valor2', 'chave2': 'valor3'}\n",
        "set(dicionario)"
      ]
    },
    {
      "cell_type": "markdown",
      "metadata": {
        "id": "-UaeappkvQdH"
      },
      "source": [
        "### 1.3. Teste de valor usando `in`\n",
        "Este é o uso mais comum de um conjunto. Faremos um dicionário chamado receitas. Cada chave é o nome de uma receita e o valor correspondente é um conjunto de seus ingredientes:"
      ]
    },
    {
      "cell_type": "code",
      "execution_count": null,
      "metadata": {
        "id": "6bnUxUOovss0"
      },
      "outputs": [],
      "source": [
        "receita = {'cenoura', 'leite', 'fermento', 'açúcar'}\n",
        "\n",
        "'cenoura' in receita"
      ]
    },
    {
      "cell_type": "markdown",
      "metadata": {
        "id": "tp8HMBKTyoK5"
      },
      "source": [
        "## 1.4. Trabalhando com números...\n",
        "A seguir são apresentados exemplos de todos os operadores de um conjunto.\n",
        "Alguns têm pontuação especial, alguns têm funções especiais e alguns têm ambos. Usaremos os conjuntos de teste:"
      ]
    },
    {
      "cell_type": "code",
      "execution_count": null,
      "metadata": {
        "id": "jhhYh9dhy3XI"
      },
      "outputs": [],
      "source": [
        "a = {1, 2}\n",
        "b = {2, 3}"
      ]
    },
    {
      "cell_type": "markdown",
      "metadata": {
        "id": "vpmU11pPy7T1"
      },
      "source": [
        "Você obtém a interseção (membros comuns aos dois conjuntos) com o símbolo de pontuação especial & ou a função intersection() do set, conforme demonstrado aqui:"
      ]
    },
    {
      "cell_type": "code",
      "execution_count": null,
      "metadata": {
        "id": "YxhxfFyYzCp3"
      },
      "outputs": [],
      "source": [
        "a & b"
      ]
    },
    {
      "cell_type": "code",
      "execution_count": null,
      "metadata": {
        "id": "4qOvigbrzE4i"
      },
      "outputs": [],
      "source": [
        "a.intersection(b)"
      ]
    },
    {
      "cell_type": "markdown",
      "metadata": {
        "id": "VGP03ReLzOCF"
      },
      "source": [
        "Neste exemplo, obtemos a união (membros de qualquer conjunto) usando | ou a função do set union():"
      ]
    },
    {
      "cell_type": "code",
      "execution_count": null,
      "metadata": {
        "id": "a4s2GY9qzVEf"
      },
      "outputs": [],
      "source": [
        "a | b"
      ]
    },
    {
      "cell_type": "code",
      "execution_count": null,
      "metadata": {
        "id": "m92vANVGzYEC"
      },
      "outputs": [],
      "source": [
        "a.union(b)"
      ]
    },
    {
      "cell_type": "markdown",
      "metadata": {
        "id": "fSrVR5RmzhNh"
      },
      "source": [
        "A diferença (membros do primeiro conjunto, mas não do segundo) é obtida usando o símbolo `-` ou a função difference() de set:"
      ]
    },
    {
      "cell_type": "code",
      "execution_count": null,
      "metadata": {
        "id": "NZ24SeL6zgwF"
      },
      "outputs": [],
      "source": [
        "a - b"
      ]
    },
    {
      "cell_type": "code",
      "execution_count": null,
      "metadata": {
        "id": "4Roy2dsyzqsA"
      },
      "outputs": [],
      "source": [
        "a.difference(b)"
      ]
    },
    {
      "cell_type": "code",
      "execution_count": null,
      "metadata": {
        "id": "IEqf5bctzvRz"
      },
      "outputs": [],
      "source": [
        "b - a"
      ]
    },
    {
      "cell_type": "markdown",
      "metadata": {
        "id": "auPFJKJjz76w"
      },
      "source": [
        "As operações de conjunto mais comuns são união, interseção e diferença, mas temos outras operação:"
      ]
    },
    {
      "cell_type": "code",
      "execution_count": null,
      "metadata": {
        "id": "H31pWVuUz7Ux"
      },
      "outputs": [],
      "source": [
        "# O ou exclusivo (XOR) (itens de um conjunto ou de outro, mas não ambos) usa ^ ou a função symmetric_difference():\n",
        "a ^ b"
      ]
    },
    {
      "cell_type": "code",
      "execution_count": null,
      "metadata": {
        "id": "qmoI2AqD0PSc"
      },
      "outputs": [],
      "source": [
        "a.symmetric_difference(b)"
      ]
    },
    {
      "cell_type": "code",
      "execution_count": null,
      "metadata": {
        "id": "XEdVbE300TiA"
      },
      "outputs": [],
      "source": [
        "# Você pode verificar se um conjunto é um subconjunto de outro (todos os membros\n",
        "# do primeiro conjunto também estão no segundo conjunto) usando <= ou a função issubset():\n",
        "a <= b"
      ]
    },
    {
      "cell_type": "code",
      "execution_count": null,
      "metadata": {
        "id": "rnS9QbJi0hjp"
      },
      "outputs": [],
      "source": [
        "a.issubset(b)"
      ]
    },
    {
      "cell_type": "code",
      "execution_count": null,
      "metadata": {
        "id": "bNgDDKFg0mgE"
      },
      "outputs": [],
      "source": [
        "a <= a"
      ]
    },
    {
      "cell_type": "code",
      "execution_count": null,
      "metadata": {
        "id": "lGXlE2H1FPWH"
      },
      "outputs": [],
      "source": [
        "x = {1, 2, 3}\n",
        "y = {1, 2, 3, 4}\n",
        "x < y"
      ]
    },
    {
      "cell_type": "code",
      "execution_count": null,
      "metadata": {
        "id": "Uu3apbeSFkHF"
      },
      "outputs": [],
      "source": [
        "x = set()\n",
        "y = {1, 2, 3}\n",
        "x <= y"
      ]
    },
    {
      "cell_type": "code",
      "execution_count": null,
      "metadata": {
        "id": "xD5rewIe0xds"
      },
      "outputs": [],
      "source": [
        "# Para ser um subconjunto adequado (proper subset), o segundo conjunto precisa\n",
        "# ter todos os membros do primeiro e mais. Usamos o símbolo < para verificar:\n",
        "a < b"
      ]
    },
    {
      "cell_type": "code",
      "execution_count": null,
      "metadata": {
        "id": "fptfcEAZ0_40"
      },
      "outputs": [],
      "source": [
        "a < a"
      ]
    },
    {
      "cell_type": "code",
      "execution_count": null,
      "metadata": {
        "id": "gDRqaVbj1BdA"
      },
      "outputs": [],
      "source": [
        "c = {1, 2, 3}\n",
        "a < c"
      ]
    },
    {
      "cell_type": "code",
      "execution_count": null,
      "metadata": {
        "id": "gJW_AKL61I53"
      },
      "outputs": [],
      "source": [
        "# Um superconjunto (superset) é o oposto de um subconjunto (todos os membros do\n",
        "# segundo conjunto também são membros do primeiro). Isso usa  >= ou a função issuperset():\n",
        "a >= b"
      ]
    },
    {
      "cell_type": "code",
      "execution_count": null,
      "metadata": {
        "id": "bBhNm5SX1SeP"
      },
      "outputs": [],
      "source": [
        "a.issuperset(b)"
      ]
    },
    {
      "cell_type": "code",
      "execution_count": null,
      "metadata": {
        "id": "b7vtVa5o1WBp"
      },
      "outputs": [],
      "source": [
        "a >= a"
      ]
    },
    {
      "cell_type": "code",
      "execution_count": null,
      "metadata": {
        "id": "_k02Dj5K1hws"
      },
      "outputs": [],
      "source": [
        "# E, finalmente, você pode encontrar um superconjunto adequado (proper superset)\n",
        "# (o primeiro conjunto tem todos os membros do segundo e mais) usando o símbolo >"
      ]
    },
    {
      "cell_type": "code",
      "execution_count": null,
      "metadata": {
        "id": "Ilfoaf901q8K"
      },
      "outputs": [],
      "source": [
        "b > a"
      ]
    },
    {
      "cell_type": "code",
      "execution_count": null,
      "metadata": {
        "id": "vMrpUtwP105Z"
      },
      "outputs": [],
      "source": [
        "a > a"
      ]
    },
    {
      "cell_type": "code",
      "execution_count": null,
      "metadata": {
        "id": "agyTLSzL1u2h"
      },
      "outputs": [],
      "source": [
        "c > a"
      ]
    },
    {
      "cell_type": "markdown",
      "metadata": {
        "id": "usKFDMft3e_o"
      },
      "source": [
        "### 1.5. Adicionando e removendo elementos de um conjunto:"
      ]
    },
    {
      "cell_type": "code",
      "execution_count": null,
      "metadata": {
        "id": "MtrHVe_ojSVU"
      },
      "outputs": [],
      "source": [
        "c = {1, 2, 3}"
      ]
    },
    {
      "cell_type": "code",
      "execution_count": null,
      "metadata": {
        "id": "TGM_OMwZ29LP"
      },
      "outputs": [],
      "source": [
        "c.add(4)\n",
        "print(c)"
      ]
    },
    {
      "cell_type": "code",
      "execution_count": null,
      "metadata": {
        "id": "j75XE3S43pKE"
      },
      "outputs": [],
      "source": [
        "c.add(3)\n",
        "print(c)"
      ]
    },
    {
      "cell_type": "code",
      "execution_count": null,
      "metadata": {
        "id": "t669JmLj3lcV"
      },
      "outputs": [],
      "source": [
        "c.remove(3) # retorna um erro caso o elemento não exista no conjunto\n",
        "print(c)"
      ]
    },
    {
      "cell_type": "code",
      "execution_count": null,
      "metadata": {
        "id": "e0oI6NYv5toY"
      },
      "outputs": [],
      "source": [
        "print(c)"
      ]
    },
    {
      "cell_type": "code",
      "execution_count": null,
      "metadata": {
        "id": "zpR6339c5TCc"
      },
      "outputs": [],
      "source": [
        "c.discard(4) # remove o elemento, mas caso ele não exista no conjunto, não retorna erro.\n",
        "print(c)"
      ]
    },
    {
      "cell_type": "code",
      "execution_count": null,
      "metadata": {
        "id": "wvSnd5mS48eT"
      },
      "outputs": [],
      "source": [
        "x = {1, 2, 3}\n",
        "y = {4, 5, 6}\n",
        "x.update(y)\n",
        "\n",
        "print(x)"
      ]
    },
    {
      "cell_type": "markdown",
      "metadata": {
        "id": "MtWI2LsV4oCS"
      },
      "source": [
        "**Não é permitido obter um item específico do conjunto, uma vez que set não possui índices.**"
      ]
    },
    {
      "cell_type": "code",
      "execution_count": null,
      "metadata": {
        "id": "ralIOwsZ4nKT"
      },
      "outputs": [],
      "source": [
        "x[1]"
      ]
    },
    {
      "cell_type": "code",
      "execution_count": null,
      "metadata": {
        "id": "IFmt1luz_hpW"
      },
      "outputs": [],
      "source": [
        "# Frozenset\n",
        "x = frozenset([1, 2, 3, 4])"
      ]
    },
    {
      "cell_type": "code",
      "execution_count": null,
      "metadata": {
        "id": "gZ7MYroClJ80"
      },
      "outputs": [],
      "source": [
        "x"
      ]
    },
    {
      "cell_type": "code",
      "execution_count": null,
      "metadata": {
        "id": "Y8YrIRYl_ohk"
      },
      "outputs": [],
      "source": [
        "x.add(5)"
      ]
    },
    {
      "cell_type": "code",
      "execution_count": null,
      "metadata": {
        "id": "Arwh38zeJtXF"
      },
      "outputs": [],
      "source": [
        "y = {2, 3}\n",
        "x & y"
      ]
    },
    {
      "cell_type": "code",
      "execution_count": null,
      "metadata": {
        "id": "NgyTuJWe1hRw"
      },
      "outputs": [],
      "source": [
        "y & x"
      ]
    }
  ],
  "metadata": {
    "colab": {
      "provenance": []
    },
    "kernelspec": {
      "display_name": ".venv (3.13.3)",
      "language": "python",
      "name": "python3"
    },
    "language_info": {
      "codemirror_mode": {
        "name": "ipython",
        "version": 3
      },
      "file_extension": ".py",
      "mimetype": "text/x-python",
      "name": "python",
      "nbconvert_exporter": "python",
      "pygments_lexer": "ipython3",
      "version": "3.13.3"
    }
  },
  "nbformat": 4,
  "nbformat_minor": 0
}
