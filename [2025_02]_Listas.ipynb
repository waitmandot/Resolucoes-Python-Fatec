{
  "cells": [
    {
      "cell_type": "markdown",
      "metadata": {
        "id": "IWT9kBSMTj2O"
      },
      "source": [
        "![image.png](data:image/png;base64,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)\n",
        "# Parte II - Estruturas de Dados\n",
        "##05 - Listas\n",
        "### Linguagem de Programação (Prof. Dr. Henrique Dezani)\n",
        "Curso de Tecnologia em Análise e Desenvolvimento de Sistemas da Faculdade de Tecnologia de São José do Rio Preto"
      ]
    },
    {
      "cell_type": "markdown",
      "metadata": {
        "id": "i1HnFaD3isTU"
      },
      "source": [
        "Na Parte I, começamos com os tipos de dados básicos do Python: booleanos, números inteiros, de ponto flutuante e strings. Se considerarmos eles como átomos, as estruturas de dados desta Parte II são as moléculas. Ou seja, combinamos esses tipos básicos de maneiras mais complexas. Você os usará todos os dias. Grande parte da programação consiste em cortar e colar dados em formas específicas, e essas são suas serras e cola (Lubanovic, 2014)."
      ]
    },
    {
      "cell_type": "markdown",
      "metadata": {
        "id": "C04vxa-S9nDK"
      },
      "source": [
        "A maioria das linguagens de computador pode representar uma sequência de itens indexados por sua posição inteira: primeiro, segundo e assim por diante até o último. Lembrando que os índices sempre iniciam em zero.\n",
        "\n",
        "Na última aula vimos `strings` Python, que são sequências de caracteres. Reveja o exemplo abaixo com os caracteres desta sequência e seus respectivos índices."
      ]
    },
    {
      "cell_type": "code",
      "execution_count": null,
      "metadata": {
        "colab": {
          "base_uri": "https://localhost:8080/"
        },
        "id": "j2nCVb-M9oTW",
        "outputId": "5b267de9-1309-4e7a-e239-3b9310f537bc"
      },
      "outputs": [
        {
          "name": "stdout",
          "output_type": "stream",
          "text": [
            "[0] H\t[1] e\t[2] l\t[3] l\t[4] o\t[5]  \t[6] W\t[7] o\t[8] r\t[9] l\t[10] d\t"
          ]
        }
      ],
      "source": [
        "texto = 'Hello World'\n",
        "for index, caractere in enumerate(texto):\n",
        "  print('[{}] {}'.format(index, caractere), end='\\t')"
      ]
    },
    {
      "cell_type": "markdown",
      "metadata": {
        "id": "690kl52q7oS9"
      },
      "source": [
        "O Python possui duas outras estruturas de sequência: tuplas e listas. Eles contêm zero ou mais elementos. Diferentemente das `strings`, os elementos podem ser de tipos diferentes. De fato, cada elemento pode ser qualquer objeto Python. Isso permite criar estruturas tão profundas e complexas quanto você desejar.\n",
        "\n",
        "`Tuplas` são **imutáveis**; quando você atribui elementos a uma tupla, eles  não podem ser alterados. As `listas` são **mutáveis**, o que significa que você pode inserir e excluir elementos da maneira que desejar."
      ]
    },
    {
      "cell_type": "markdown",
      "metadata": {
        "id": "Bu_cUAtKULLJ"
      },
      "source": [
        "## 1. Listas (List)\n",
        "As listas são boas para acompanhar as coisas por ordem, especialmente quando a ordem e o conteúdo podem mudar. Diferentemente das `strings`, as listas são **mutáveis**. Você pode alterar uma lista no local específico, adicionar novos elementos e excluir ou substituir elementos existentes. O mesmo valor pode ocorrer mais de uma vez em uma lista. Veja alguns exemplos de como podemos criar listas a seguir:"
      ]
    },
    {
      "cell_type": "code",
      "execution_count": null,
      "metadata": {
        "colab": {
          "base_uri": "https://localhost:8080/"
        },
        "id": "l1X0HXmJ_d2-",
        "outputId": "bd4c4b0b-5064-4cd2-b03c-aed87148cacd"
      },
      "outputs": [
        {
          "name": "stdout",
          "output_type": "stream",
          "text": [
            "Domingo\n",
            "Segunda-feira\n",
            "Terça-feira\n",
            "Quarta-feira\n",
            "Quinta-feira\n",
            "Sexta-feira\n",
            "Sábado\n"
          ]
        }
      ],
      "source": [
        "dias_semana = ['Domingo', 'Segunda-feira', 'Terça-feira', 'Quarta-feira', 'Quinta-feira', 'Sexta-feira', 'Sábado']\n",
        "\n",
        "for dia in dias_semana:\n",
        "  print(dia)"
      ]
    },
    {
      "cell_type": "code",
      "execution_count": null,
      "metadata": {
        "colab": {
          "base_uri": "https://localhost:8080/"
        },
        "id": "2tn52rUV_vW0",
        "outputId": "10103bdd-a298-44c0-abf0-981311e6dc69"
      },
      "outputs": [
        {
          "name": "stdout",
          "output_type": "stream",
          "text": [
            "Domingo 0\n",
            "Segunda-feira 1\n",
            "Terça-feira 2\n",
            "Quarta-feira 3\n",
            "Quinta-feira 4\n",
            "Sexta-feira 5\n",
            "Sábado 6\n"
          ]
        }
      ],
      "source": [
        "for (index, valor) in enumerate(dias_semana):\n",
        "  print(valor, index)"
      ]
    },
    {
      "cell_type": "code",
      "execution_count": null,
      "metadata": {
        "colab": {
          "base_uri": "https://localhost:8080/"
        },
        "id": "dLTk5IZxoibW",
        "outputId": "ca3b9aa6-b769-4eec-8fea-2fbcd77b5e1c"
      },
      "outputs": [
        {
          "name": "stdout",
          "output_type": "stream",
          "text": [
            "Domingo\n",
            "Segunda-feira\n",
            "Terça-feira\n",
            "Quarta-feira\n",
            "Quinta-feira\n",
            "Sexta-feira\n",
            "Sábado\n"
          ]
        }
      ],
      "source": [
        "for index in range(len(dias_semana)):\n",
        "  print(dias_semana[index])"
      ]
    },
    {
      "cell_type": "markdown",
      "metadata": {
        "id": "yaWPXjE1AWPL"
      },
      "source": [
        "Como vimos anteriormente, podemos criar uma lista com **[]**.\n",
        "Uma lista é composta de zero ou mais elementos, separados por vírgulas e entre colchetes. Outra maneira de criar uma lista é utilizando a **função interna** list(). Veja o exemplo."
      ]
    },
    {
      "cell_type": "code",
      "execution_count": null,
      "metadata": {
        "id": "0_V9Q70AAGxP"
      },
      "outputs": [],
      "source": [
        "alunos = []\n",
        "# ou\n",
        "# alunos = list()"
      ]
    },
    {
      "cell_type": "code",
      "execution_count": null,
      "metadata": {
        "colab": {
          "base_uri": "https://localhost:8080/"
        },
        "id": "wiRAyH_p_7Fk",
        "outputId": "475e9552-9ce0-43d7-8b8e-777651680ea9"
      },
      "outputs": [
        {
          "name": "stdout",
          "output_type": "stream",
          "text": [
            "[]\n"
          ]
        }
      ],
      "source": [
        "print(alunos)"
      ]
    },
    {
      "cell_type": "code",
      "execution_count": null,
      "metadata": {
        "colab": {
          "base_uri": "https://localhost:8080/"
        },
        "id": "VuSeCDP5AiB4",
        "outputId": "4fdb93b2-0a73-47dd-fa5b-d6e27168fa5f"
      },
      "outputs": [
        {
          "data": {
            "text/plain": [
              "list"
            ]
          },
          "execution_count": 7,
          "metadata": {},
          "output_type": "execute_result"
        }
      ],
      "source": [
        "type(alunos)"
      ]
    },
    {
      "cell_type": "markdown",
      "metadata": {
        "id": "JeoWZmFHBaL0"
      },
      "source": [
        "É importante relembrar que uma lista pode aceitar qualquer tipo de objeto e estes podem se repetir na lista. Vejamos um exemplo:"
      ]
    },
    {
      "cell_type": "code",
      "execution_count": null,
      "metadata": {
        "id": "5ymX-5T7AmH0"
      },
      "outputs": [],
      "source": [
        "lista_de_objetos = [1, 'texto', 2.3, True, 1, None, []]"
      ]
    },
    {
      "cell_type": "code",
      "execution_count": null,
      "metadata": {
        "colab": {
          "base_uri": "https://localhost:8080/"
        },
        "id": "0QuYDt8rB3mT",
        "outputId": "7ed149bc-708d-49c3-92b6-2a85a2977f95"
      },
      "outputs": [
        {
          "name": "stdout",
          "output_type": "stream",
          "text": [
            "1 <class 'int'>\n",
            "texto <class 'str'>\n",
            "2.3 <class 'float'>\n",
            "True <class 'bool'>\n",
            "1 <class 'int'>\n",
            "None <class 'NoneType'>\n",
            "[] <class 'list'>\n"
          ]
        }
      ],
      "source": [
        "for item in lista_de_objetos:\n",
        "  print(item, type(item))"
      ]
    },
    {
      "cell_type": "markdown",
      "metadata": {
        "id": "VoIMpPLXCPZa"
      },
      "source": [
        "##Fica a dica!\n",
        "Caso a ordem dos elementos não sejam importantes e seja necessário restrigir **apenas objetos únicos**, utilizamos a estrutura de dados `set` (conjunto). Veremos esta estrutura em próximas aulas."
      ]
    },
    {
      "cell_type": "markdown",
      "metadata": {
        "id": "KTDbSLABC78p"
      },
      "source": [
        "### 1.1. Convertendo outros tipos de dados para lista\n",
        "A lista é uma das principais estruturas de dados utilizadas nos programas de computadores, portanto, é importante estudarmos como converter outros tipos de dados para listas. Vejamos aluns exemplos:"
      ]
    },
    {
      "cell_type": "code",
      "execution_count": null,
      "metadata": {
        "colab": {
          "base_uri": "https://localhost:8080/"
        },
        "id": "4v09Dh6-B9Sf",
        "outputId": "96174b0f-02e0-451a-e5e7-c040bfca1a76"
      },
      "outputs": [
        {
          "data": {
            "text/plain": [
              "['F', 'a', 't', 'e', 'c']"
            ]
          },
          "execution_count": 10,
          "metadata": {},
          "output_type": "execute_result"
        }
      ],
      "source": [
        "# Podemos utilizar a a função interna list() para converter uma string para uma lista de string (caracteres):\n",
        "list('Fatec')"
      ]
    },
    {
      "cell_type": "code",
      "execution_count": null,
      "metadata": {
        "colab": {
          "base_uri": "https://localhost:8080/"
        },
        "id": "TPsQoCYrDX9r",
        "outputId": "b4ebd84c-7874-4378-d227-2cea710b359d"
      },
      "outputs": [
        {
          "data": {
            "text/plain": [
              "['30', '09', '2025']"
            ]
          },
          "execution_count": 11,
          "metadata": {},
          "output_type": "execute_result"
        }
      ],
      "source": [
        "# Podemos utilizar a função interna split, de string, para transformar textos em listas a partir de um elemento separador:\n",
        "data_aniversario = '30/09/2025'\n",
        "data_aniversario.split('/')"
      ]
    },
    {
      "cell_type": "code",
      "execution_count": null,
      "metadata": {
        "colab": {
          "base_uri": "https://localhost:8080/"
        },
        "id": "c_lJcTc0rJXL",
        "outputId": "55e07572-fbc0-4eb5-865c-dcf76b54bbb4"
      },
      "outputs": [
        {
          "data": {
            "text/plain": [
              "['Fatec', '', 'Rio', 'Preto']"
            ]
          },
          "execution_count": 14,
          "metadata": {},
          "output_type": "execute_result"
        }
      ],
      "source": [
        "'Fatec  Rio Preto'.split(' ')"
      ]
    },
    {
      "cell_type": "markdown",
      "metadata": {
        "id": "zZOIy3L4HVv8"
      },
      "source": [
        "### 1.2. Obter um item usando [offset]\n",
        "Como nas `strings`, você pode extrair um único valor de uma lista, especificando seu índice (offset, ou deslocamento). Veja o exemplo:"
      ]
    },
    {
      "cell_type": "code",
      "execution_count": null,
      "metadata": {
        "colab": {
          "base_uri": "https://localhost:8080/"
        },
        "id": "4WgRBPw-vRHL",
        "outputId": "b1f20e98-c45d-4ba1-b48d-d0c31da15ef8"
      },
      "outputs": [
        {
          "data": {
            "text/plain": [
              "4"
            ]
          },
          "execution_count": 15,
          "metadata": {},
          "output_type": "execute_result"
        }
      ],
      "source": [
        "numeros = [1, 2, 3, 4, 5, 8]\n",
        "\n",
        "numeros[3]"
      ]
    },
    {
      "cell_type": "code",
      "execution_count": null,
      "metadata": {
        "colab": {
          "base_uri": "https://localhost:8080/",
          "height": 144
        },
        "id": "UmwkbYdXWawX",
        "outputId": "cd7d88e1-4bfd-4a2a-d73c-c71c4f26c114"
      },
      "outputs": [
        {
          "ename": "IndexError",
          "evalue": "list index out of range",
          "output_type": "error",
          "traceback": [
            "\u001b[0;31m---------------------------------------------------------------------------\u001b[0m",
            "\u001b[0;31mIndexError\u001b[0m                                Traceback (most recent call last)",
            "\u001b[0;32m/tmp/ipython-input-274734378.py\u001b[0m in \u001b[0;36m<cell line: 0>\u001b[0;34m()\u001b[0m\n\u001b[0;32m----> 1\u001b[0;31m \u001b[0mnumeros\u001b[0m\u001b[0;34m[\u001b[0m\u001b[0;36m8\u001b[0m\u001b[0;34m]\u001b[0m\u001b[0;34m\u001b[0m\u001b[0;34m\u001b[0m\u001b[0m\n\u001b[0m",
            "\u001b[0;31mIndexError\u001b[0m: list index out of range"
          ]
        }
      ],
      "source": [
        "numeros[8]"
      ]
    },
    {
      "cell_type": "code",
      "execution_count": null,
      "metadata": {
        "colab": {
          "base_uri": "https://localhost:8080/"
        },
        "id": "fiuEEN7FvcCm",
        "outputId": "83dd4111-9ed6-4a4f-d79d-2f4217cd404b"
      },
      "outputs": [
        {
          "data": {
            "text/plain": [
              "6"
            ]
          },
          "execution_count": 18,
          "metadata": {},
          "output_type": "execute_result"
        }
      ],
      "source": [
        "len(numeros) # length"
      ]
    },
    {
      "cell_type": "code",
      "execution_count": null,
      "metadata": {
        "colab": {
          "base_uri": "https://localhost:8080/"
        },
        "id": "ut9wXBq8hk8q",
        "outputId": "5ec8b17c-ec34-486d-cc4f-da7e2c026121"
      },
      "outputs": [
        {
          "data": {
            "text/plain": [
              "6"
            ]
          },
          "execution_count": 19,
          "metadata": {},
          "output_type": "execute_result"
        }
      ],
      "source": [
        "#metaprogramação\n",
        "numeros.__len__()"
      ]
    },
    {
      "cell_type": "code",
      "execution_count": null,
      "metadata": {
        "colab": {
          "base_uri": "https://localhost:8080/"
        },
        "id": "Wz7JkJgDo0xe",
        "outputId": "f2da3e60-42e3-4fd5-caf7-4336dd143af9"
      },
      "outputs": [
        {
          "name": "stdout",
          "output_type": "stream",
          "text": [
            "0 1\n",
            "1 2\n",
            "2 3\n",
            "3 4\n",
            "4 5\n",
            "5 6\n",
            "6 7\n",
            "7 8\n"
          ]
        }
      ],
      "source": [
        "numeros = [1, 2, 3, 4, 5, 6, 7, 8]\n",
        "\n",
        "for i in range(len(numeros)):\n",
        "  print(i, numeros[i])"
      ]
    },
    {
      "cell_type": "code",
      "execution_count": null,
      "metadata": {
        "colab": {
          "base_uri": "https://localhost:8080/"
        },
        "id": "1LNyA0kJpU_x",
        "outputId": "5ccdeb70-ae6a-4b42-c51f-7cfd787cf6da"
      },
      "outputs": [
        {
          "name": "stdout",
          "output_type": "stream",
          "text": [
            "1\n",
            "2\n",
            "3\n",
            "4\n",
            "5\n",
            "6\n",
            "7\n",
            "8\n"
          ]
        }
      ],
      "source": [
        "for numero in numeros:\n",
        "  print(numero)"
      ]
    },
    {
      "cell_type": "code",
      "execution_count": null,
      "metadata": {
        "colab": {
          "base_uri": "https://localhost:8080/"
        },
        "id": "XZaLVKC8pjBa",
        "outputId": "42b77457-6504-4ae0-cdfd-a3d60291f9bd"
      },
      "outputs": [
        {
          "name": "stdout",
          "output_type": "stream",
          "text": [
            "0 1 1\n",
            "1 2 2\n",
            "2 3 3\n",
            "3 4 4\n",
            "4 5 5\n",
            "5 6 6\n",
            "6 7 7\n",
            "7 8 8\n"
          ]
        }
      ],
      "source": [
        "for indice, valor in enumerate(numeros):\n",
        "  print(indice, valor, numeros[indice])"
      ]
    },
    {
      "cell_type": "markdown",
      "metadata": {
        "id": "Ew3z_zCZHxrc"
      },
      "source": [
        "Podemos utilizar índices negativos, os quais realizam a contagem para trás a partir do final. Veja o exemplo. (Detalhe, podemos fazer a mesma coisa com string)."
      ]
    },
    {
      "cell_type": "code",
      "execution_count": null,
      "metadata": {
        "id": "koonotR3Xgjq"
      },
      "outputs": [],
      "source": [
        "dias_semana"
      ]
    },
    {
      "cell_type": "code",
      "execution_count": null,
      "metadata": {
        "id": "aOUZJ_qHwNhs"
      },
      "outputs": [],
      "source": [
        "# -7 Domingo\n",
        "# -6 Segunda-feira\n",
        "# -5 Terça-feira\n",
        "# -4 Quarta-feira\n",
        "# -3 Quinta-feira\n",
        "# -2 Sexta-feira\n",
        "# -1 Sábado\n",
        "# 0 Domingo\n",
        "# 1 Segunda-feira\n",
        "# 2 Terça-feira\n",
        "# 3 Quarta-feira\n",
        "# 4 Quinta-feira\n",
        "# 5 Sexta-feira\n",
        "# 6 Sábado"
      ]
    },
    {
      "cell_type": "code",
      "execution_count": null,
      "metadata": {
        "colab": {
          "base_uri": "https://localhost:8080/",
          "height": 35
        },
        "id": "H6G4rVGIHsU2",
        "outputId": "a0629333-56a4-4ea8-f735-0ec7fcf5d521"
      },
      "outputs": [
        {
          "data": {
            "application/vnd.google.colaboratory.intrinsic+json": {
              "type": "string"
            },
            "text/plain": [
              "'Sábado'"
            ]
          },
          "execution_count": 23,
          "metadata": {},
          "output_type": "execute_result"
        }
      ],
      "source": [
        "dias_semana[-1]"
      ]
    },
    {
      "cell_type": "code",
      "execution_count": null,
      "metadata": {
        "colab": {
          "base_uri": "https://localhost:8080/",
          "height": 35
        },
        "id": "T2szWgW1IBTx",
        "outputId": "d8c10fd2-4ad7-4cd6-ac5e-db7c7decd6d0"
      },
      "outputs": [
        {
          "data": {
            "application/vnd.google.colaboratory.intrinsic+json": {
              "type": "string"
            },
            "text/plain": [
              "'Domingo'"
            ]
          },
          "execution_count": 24,
          "metadata": {},
          "output_type": "execute_result"
        }
      ],
      "source": [
        "dias_semana[-7]"
      ]
    },
    {
      "cell_type": "code",
      "execution_count": null,
      "metadata": {
        "colab": {
          "base_uri": "https://localhost:8080/",
          "height": 35
        },
        "id": "x6JpSmYCoySf",
        "outputId": "699a1e48-9c8d-4c66-f5ae-eaacd29277e0"
      },
      "outputs": [
        {
          "data": {
            "application/vnd.google.colaboratory.intrinsic+json": {
              "type": "string"
            },
            "text/plain": [
              "'Domingo'"
            ]
          },
          "execution_count": 25,
          "metadata": {},
          "output_type": "execute_result"
        }
      ],
      "source": [
        "dias_semana[0]"
      ]
    },
    {
      "cell_type": "code",
      "execution_count": null,
      "metadata": {
        "colab": {
          "base_uri": "https://localhost:8080/"
        },
        "id": "u0j2YnqAIJOt",
        "outputId": "a9daee87-47af-4f90-e0bc-d9fae18d5baf"
      },
      "outputs": [
        {
          "name": "stdout",
          "output_type": "stream",
          "text": [
            "F\n",
            "c\n"
          ]
        }
      ],
      "source": [
        "#usando string:\n",
        "texto = 'Fatec'\n",
        "print(texto[0])\n",
        "print(texto[-1])"
      ]
    },
    {
      "cell_type": "markdown",
      "metadata": {
        "id": "M6R2HYivI-zl"
      },
      "source": [
        "O deslocamento deve ser válido para a lista, ou seja, deve haver uma posição em que você atribuiu um valor anteriormente. Se você especificar uma posição antes do início ou após o final, receberá uma exceção (erro) - **index out of range**. Aqui está o que acontece se tentarmos obter o item na posição 5 do texto."
      ]
    },
    {
      "cell_type": "code",
      "execution_count": null,
      "metadata": {
        "id": "mAtiOrBfIpy2"
      },
      "outputs": [],
      "source": [
        "print(texto[5])"
      ]
    },
    {
      "cell_type": "markdown",
      "metadata": {
        "id": "X-9R1CU3Jx6Y"
      },
      "source": [
        "###1.3 Alterar um item por [índice]\n",
        "\n",
        "Assim como você pode obter o valor de um item da lista por seu índice, você pode alterá-lo. Veja o exemplo:"
      ]
    },
    {
      "cell_type": "code",
      "execution_count": null,
      "metadata": {
        "colab": {
          "base_uri": "https://localhost:8080/"
        },
        "id": "FjQfdRWuJQbd",
        "outputId": "3e8a67f5-436a-4215-c928-38b7cbcaa65f"
      },
      "outputs": [
        {
          "name": "stdout",
          "output_type": "stream",
          "text": [
            "[7.0, 8.0, 7.5, 9.0]\n"
          ]
        }
      ],
      "source": [
        "notas = [7.0, 8.0, 7.5, 9.0]\n",
        "print(notas)"
      ]
    },
    {
      "cell_type": "code",
      "execution_count": null,
      "metadata": {
        "colab": {
          "base_uri": "https://localhost:8080/"
        },
        "id": "PEyHn7FDKYAi",
        "outputId": "8214d0aa-919e-498b-a06a-b9efe6908e3c"
      },
      "outputs": [
        {
          "name": "stdout",
          "output_type": "stream",
          "text": [
            "[7.0, 6.5, 7.5, 9.0]\n"
          ]
        }
      ],
      "source": [
        "notas[1] = 6.5\n",
        "print(notas)"
      ]
    },
    {
      "cell_type": "markdown",
      "metadata": {
        "id": "d4WRhcoMKckQ"
      },
      "source": [
        "Novamente, o deslocamento da lista precisa ser válido para esta lista. Além disso, é importante lembrar que listas são mutáveis e strings não. Ou seja, você não pode alterar um caractere em uma string dessa maneira. As listas são mutáveis. Você pode alterar quantos itens uma lista contém e os próprios itens."
      ]
    },
    {
      "cell_type": "code",
      "execution_count": null,
      "metadata": {
        "colab": {
          "base_uri": "https://localhost:8080/",
          "height": 161
        },
        "id": "secpFonJKb-Q",
        "outputId": "daecb881-5bc1-4bfb-9f68-7e5c80a1818b"
      },
      "outputs": [
        {
          "ename": "TypeError",
          "evalue": "'str' object does not support item assignment",
          "output_type": "error",
          "traceback": [
            "\u001b[0;31m---------------------------------------------------------------------------\u001b[0m",
            "\u001b[0;31mTypeError\u001b[0m                                 Traceback (most recent call last)",
            "\u001b[0;32m/tmp/ipython-input-3049899750.py\u001b[0m in \u001b[0;36m<cell line: 0>\u001b[0;34m()\u001b[0m\n\u001b[1;32m      1\u001b[0m \u001b[0mtexto\u001b[0m \u001b[0;34m=\u001b[0m \u001b[0;34m'Fatec'\u001b[0m\u001b[0;34m\u001b[0m\u001b[0;34m\u001b[0m\u001b[0m\n\u001b[0;32m----> 2\u001b[0;31m \u001b[0mtexto\u001b[0m\u001b[0;34m[\u001b[0m\u001b[0;36m1\u001b[0m\u001b[0;34m]\u001b[0m \u001b[0;34m=\u001b[0m \u001b[0;34m'A'\u001b[0m\u001b[0;34m\u001b[0m\u001b[0;34m\u001b[0m\u001b[0m\n\u001b[0m",
            "\u001b[0;31mTypeError\u001b[0m: 'str' object does not support item assignment"
          ]
        }
      ],
      "source": [
        "texto = 'Fatec'\n",
        "texto[1] = 'A'\n"
      ]
    },
    {
      "cell_type": "code",
      "execution_count": null,
      "metadata": {
        "colab": {
          "base_uri": "https://localhost:8080/"
        },
        "id": "vfk2Ujnk1URN",
        "outputId": "c952a390-9b7f-4145-dbfb-689320255352"
      },
      "outputs": [
        {
          "name": "stdout",
          "output_type": "stream",
          "text": [
            "['F', 'a', 't', 'e', 'c']\n"
          ]
        }
      ],
      "source": [
        "# Como alterar então?\n",
        "lista = list(texto)\n",
        "print(lista)"
      ]
    },
    {
      "cell_type": "code",
      "execution_count": null,
      "metadata": {
        "colab": {
          "base_uri": "https://localhost:8080/"
        },
        "id": "EdvPex3iZU4G",
        "outputId": "1fd59c37-9008-4726-a11f-32e43465a46a"
      },
      "outputs": [
        {
          "name": "stdout",
          "output_type": "stream",
          "text": [
            "['F', 'A', 't', 'e', 'c']\n"
          ]
        }
      ],
      "source": [
        "lista[1] = 'A'\n",
        "print(lista)"
      ]
    },
    {
      "cell_type": "code",
      "execution_count": null,
      "metadata": {
        "colab": {
          "base_uri": "https://localhost:8080/"
        },
        "id": "DSTzC1UM16xv",
        "outputId": "ddaa8ec5-aadf-4543-e971-cf1ecffddf0d"
      },
      "outputs": [
        {
          "name": "stdout",
          "output_type": "stream",
          "text": [
            "FAtec\n"
          ]
        }
      ],
      "source": [
        "# Como voltar o tipo para uma string? (for +=?)\n",
        "palavra = ''\n",
        "for letra in lista:\n",
        "  palavra += letra\n",
        "\n",
        "print(palavra)"
      ]
    },
    {
      "cell_type": "markdown",
      "metadata": {
        "id": "Vc3F4G-QLskW"
      },
      "source": [
        "###1.4 Resolvendo a alteração de uma string usando list() e .join()\n",
        "A função interna `join()` é o oposto da função interna `split()` e é aplicada apenas para `string`. Com ela podemos juntar uma lista de `string` numa única. Veja o exemplo abaixo para resolvermos o problema de alteração de caracteres de uma string (imutável)."
      ]
    },
    {
      "cell_type": "code",
      "execution_count": null,
      "metadata": {
        "colab": {
          "base_uri": "https://localhost:8080/"
        },
        "id": "iJzOTKzZKK2o",
        "outputId": "d5b8417d-4158-401d-e506-bb1bd6942d42"
      },
      "outputs": [
        {
          "name": "stdout",
          "output_type": "stream",
          "text": [
            "['F', 'a', 't', 'e', 'c']\n",
            "['F', 'A', 't', 'e', 'c']\n",
            "F    A    t    e    c\n"
          ]
        }
      ],
      "source": [
        "texto = 'Fatec'\n",
        "lista = list(texto)\n",
        "print(lista)\n",
        "\n",
        "lista[1] = 'A'\n",
        "print(lista)\n",
        "\n",
        "texto = '    '.join(lista)\n",
        "print(texto)\n",
        "\n",
        "# Como usamos o .join?"
      ]
    },
    {
      "cell_type": "code",
      "execution_count": null,
      "metadata": {
        "colab": {
          "base_uri": "https://localhost:8080/"
        },
        "id": "9nBp8hQzaixq",
        "outputId": "e3a36442-a901-46e0-ca49-f910b1476135"
      },
      "outputs": [
        {
          "name": "stdout",
          "output_type": "stream",
          "text": [
            "['ensinando', 'python', 'na', 'faculdade']\n",
            "ensinando-python-na-faculdade\n"
          ]
        }
      ],
      "source": [
        "# Dada uma frase informada pelo usuário,\n",
        "# crie um slug da frase para ser utilizado na url de um site.\n",
        "\n",
        "title = 'ensinando  python na faculdade'\n",
        "slug = 'ensinando-python-na-faculdade'\n",
        "\n",
        "lista = title.split()\n",
        "print(lista)\n",
        "\n",
        "slug = '-'.join(lista)\n",
        "print(slug)"
      ]
    },
    {
      "cell_type": "code",
      "execution_count": 2,
      "metadata": {
        "id": "-RzXnwhvt--3"
      },
      "outputs": [],
      "source": [
        "comentario = '''Não gostei da panela que comprei pois a tampa\n",
        " da panela estava azul e eu queria vermelha.'''\n",
        "\n",
        "stop_words = ['do', 'da', 'o', 'a', 'e', 'eu', 'que']\n",
        "\n",
        "# Exercício Rápido! Como remover as stop words?"
      ]
    },
    {
      "cell_type": "code",
      "execution_count": null,
      "metadata": {
        "id": "8RSAeU0q6V1Q"
      },
      "outputs": [
        {
          "name": "stdout",
          "output_type": "stream",
          "text": [
            "['Não', 'gostei', 'da', 'panela', 'que', 'comprei', 'pois', 'a', 'tampa', 'da', 'panela', 'estava', 'azul', 'e', 'eu', 'queria', 'vermelha.']\n",
            "Não gostei panela comprei pois tampa panela estava azul queria vermelha.\n"
          ]
        }
      ],
      "source": [
        "\n",
        "lista = comentario.split()\n",
        "print(lista)\n",
        "\n",
        "for stop_word in stop_words:\n",
        "    if stop_word in lista:\n",
        "        itens = lista.count(stop_word)\n",
        "        for i in range(itens):\n",
        "            lista.remove(stop_word)\n",
        "\n",
        "print(\" \".join(lista))"
      ]
    },
    {
      "cell_type": "markdown",
      "metadata": {
        "id": "-d33y5fI2wjE"
      },
      "source": [
        "### 1.5. Obter uma fatia para extrair itens por intervalo de deslocamento\n",
        "\n",
        "Você pode extrair uma subsequência de uma lista usando uma fatia (slice):"
      ]
    },
    {
      "cell_type": "code",
      "execution_count": null,
      "metadata": {
        "id": "-hcxtdHx9qkS"
      },
      "outputs": [],
      "source": [
        "numeros = [1, 2, 3, 4, 5, 6, 7, 8, 9]\n",
        "\n",
        "for indice, numero in enumerate(numeros):\n",
        "  print(indice, numero)"
      ]
    },
    {
      "cell_type": "code",
      "execution_count": null,
      "metadata": {
        "id": "-IepKjk4CFxI"
      },
      "outputs": [],
      "source": [
        "numeros[2]"
      ]
    },
    {
      "cell_type": "code",
      "execution_count": null,
      "metadata": {
        "id": "yL4z1MWp99OG"
      },
      "outputs": [],
      "source": [
        "numeros[2:] # ~range(inicial, final-1) = numeros[offset inicial, offset final - 1]"
      ]
    },
    {
      "cell_type": "code",
      "execution_count": null,
      "metadata": {
        "id": "8I0H4_00-qCi"
      },
      "outputs": [],
      "source": [
        "for numero in numeros[2:4]:\n",
        "  print(numero)"
      ]
    },
    {
      "cell_type": "code",
      "execution_count": null,
      "metadata": {
        "id": "mdoE6Zsc22bd"
      },
      "outputs": [],
      "source": [
        "coordenadores = ['Teresa', 'Mario', 'Walter']\n",
        "\n",
        "for index, coordenador in enumerate(coordenadores):\n",
        "  print(index, coordenador)"
      ]
    },
    {
      "cell_type": "code",
      "execution_count": null,
      "metadata": {
        "id": "IHirBUNNLCFH"
      },
      "outputs": [],
      "source": [
        "# neste caso, definimos o início e o intervalo final (-1)\n",
        "# Uma fatia de uma lista também é uma lista.\n",
        "coordenadores[0:2] # obtém os índices 0 e 1"
      ]
    },
    {
      "cell_type": "code",
      "execution_count": null,
      "metadata": {
        "id": "kHCsVfLVvjki"
      },
      "outputs": [],
      "source": [
        "coordenadores[:]"
      ]
    },
    {
      "cell_type": "code",
      "execution_count": null,
      "metadata": {
        "id": "hwvt9oZpvyvx"
      },
      "outputs": [],
      "source": [
        "coordenadores[:2:]"
      ]
    },
    {
      "cell_type": "code",
      "execution_count": null,
      "metadata": {
        "id": "ZLfKzkkC3U4q"
      },
      "outputs": [],
      "source": [
        "# Neste exemplo começa no início e vai para a direita de 2 em 2:\n",
        "# coordenadores[0:len(coordenadores):1]\n",
        "coordenadores[::2]"
      ]
    },
    {
      "cell_type": "code",
      "execution_count": null,
      "metadata": {
        "id": "K28usiP23DwC"
      },
      "outputs": [],
      "source": [
        "# Aqui, começamos no final e vamos à esquerda de 1 em 1, ou seja, reverter a lista:\n",
        "coordenadores[::-1]"
      ]
    },
    {
      "cell_type": "code",
      "execution_count": null,
      "metadata": {
        "id": "KiRmJEd75hXg"
      },
      "outputs": [],
      "source": [
        "# Vale lembrar que string é uma sequência de caracteres, portanto, a mesma manipulação é válida para ele:\n",
        "nome = 'Fatec Rio Preto'\n",
        "print(nome[::2])\n",
        "print(nome[1:3])\n",
        "print(nome[::-1])"
      ]
    },
    {
      "cell_type": "markdown",
      "metadata": {
        "id": "V5e4QdQx6eWb"
      },
      "source": [
        "###1.6 Adicione um item ao final com a função .append()\n",
        "\n",
        "A maneira tradicional de adicionar itens a uma lista é usando a função interna .append() um por um até o final. Nos exemplos anteriores, esquecemos o coordenador do EaD, prof. João, mas tudo bem, porque a lista é **mutável**, portanto, para que possamos adicioná-lo agora:"
      ]
    },
    {
      "cell_type": "code",
      "execution_count": null,
      "metadata": {
        "id": "dSkazJ7ABav2"
      },
      "outputs": [],
      "source": [
        "coordenadores"
      ]
    },
    {
      "cell_type": "code",
      "execution_count": null,
      "metadata": {
        "id": "ZQYIRN655uMf"
      },
      "outputs": [],
      "source": [
        "coordenadores.append('João')\n",
        "print(coordenadores)"
      ]
    },
    {
      "cell_type": "markdown",
      "metadata": {
        "id": "xkzqVrFg7Kbs"
      },
      "source": [
        "###1.7. Combine listas usando .extend() ou +=\n",
        "\n",
        "Você pode mesclar uma lista em outra usando a função extend(). Suponha que tenhamos uma lista com professores e queremos fundí-la com a lista de coordenadores, de maneira a exibir todo o corpo docente:"
      ]
    },
    {
      "cell_type": "code",
      "execution_count": null,
      "metadata": {
        "id": "ey0genNF7JxS"
      },
      "outputs": [],
      "source": [
        "professores = ['Henrique', 'Carlos', 'Djalma', 'Maura', 'Lucimar']\n",
        "print(professores)\n",
        "print(len(professores))"
      ]
    },
    {
      "cell_type": "code",
      "execution_count": null,
      "metadata": {
        "id": "hkHpcYF3CDat"
      },
      "outputs": [],
      "source": [
        "print(coordenadores)\n",
        "print(len(coordenadores))"
      ]
    },
    {
      "cell_type": "code",
      "execution_count": null,
      "metadata": {
        "id": "_wX0YuJJyEBG"
      },
      "outputs": [],
      "source": [
        "professores.append(coordenadores)\n",
        "print(professores)"
      ]
    },
    {
      "cell_type": "code",
      "execution_count": null,
      "metadata": {
        "id": "dDA3IMBvCKK7"
      },
      "outputs": [],
      "source": [
        "len(professores)"
      ]
    },
    {
      "cell_type": "code",
      "execution_count": null,
      "metadata": {
        "id": "WF_42ZZMB0qz"
      },
      "outputs": [],
      "source": [
        "professores = ['Henrique', 'Carlos', 'Djalma', 'Maura', 'Lucimar']\n",
        "\n",
        "professores.extend(coordenadores)\n",
        "print(professores)"
      ]
    },
    {
      "cell_type": "code",
      "execution_count": null,
      "metadata": {
        "id": "gxnbD7tJCoh-"
      },
      "outputs": [],
      "source": [
        "professores = ['Henrique', 'Carlos', 'Djalma', 'Maura', 'Lucimar']\n",
        "\n",
        "professores += coordenadores\n",
        "print(professores)"
      ]
    },
    {
      "cell_type": "code",
      "execution_count": null,
      "metadata": {
        "id": "JJCiRlEgUWS8"
      },
      "outputs": [],
      "source": [
        "professores = ['Henrique', 'Carlos', 'Djalma', 'Maura', 'Lucimar']\n",
        "\n",
        "for coordenador in coordenadores:\n",
        "  professores.append(coordenador)\n",
        "\n",
        "print(professores)"
      ]
    },
    {
      "cell_type": "markdown",
      "metadata": {
        "id": "U6qjYLGA8rSu"
      },
      "source": [
        "Se tivéssemos usado append(), para professores, teríamos os coordenadores adicionados como um único item da lista em vez de mesclar seus itens. Isso novamente demonstra que uma lista pode conter elementos de tipos diferentes. Nesse caso, cinco strings e uma lista de três strings."
      ]
    },
    {
      "cell_type": "code",
      "execution_count": null,
      "metadata": {
        "id": "OJyOfRcg6zP2"
      },
      "outputs": [],
      "source": [
        "professores = ['Henrique', 'Carlos', 'Djalma', 'Maura', 'Lucimar']\n",
        "professores += coordenadores\n",
        "print(professores)"
      ]
    },
    {
      "cell_type": "code",
      "execution_count": null,
      "metadata": {
        "id": "8Kl6-XF1VAES"
      },
      "outputs": [],
      "source": [
        "len(professores)"
      ]
    },
    {
      "cell_type": "markdown",
      "metadata": {
        "id": "hjXSQlm89Eao"
      },
      "source": [
        "###1.8. Adicionar um item por índice com `insert()`:\n",
        "\n",
        "A função `append()` adiciona itens apenas ao final da lista. Quando você deseja adicionar um item antes de qualquer índice na lista, use `insert()`. O deslocamento 0 é inserido no início. Um deslocamento além do final da lista é inserido no final, como `append()`, para que você não precise se preocupar com o lançamento de uma exceção pelo Python.\n"
      ]
    },
    {
      "cell_type": "code",
      "execution_count": null,
      "metadata": {
        "id": "AMZILdU59ZR9"
      },
      "outputs": [],
      "source": [
        "professores = ['Henrique', 'Carlos', 'Djalma', 'Maura', 'Lucimar', 'Adriano', 'João']\n",
        "professores.insert(2, 'Lucimeire')\n",
        "print(professores)"
      ]
    },
    {
      "cell_type": "code",
      "execution_count": null,
      "metadata": {
        "id": "MeiSY7XOESWM"
      },
      "outputs": [],
      "source": [
        "len(professores)"
      ]
    },
    {
      "cell_type": "code",
      "execution_count": null,
      "metadata": {
        "id": "iAgbpUrj9gas"
      },
      "outputs": [],
      "source": [
        "professores.insert(20, 'Marildo') # ~ append (considerando que a lista tem apenas 10 elementos.)\n",
        "print(professores)"
      ]
    },
    {
      "cell_type": "code",
      "execution_count": null,
      "metadata": {
        "id": "BvUeQkM2W3rx"
      },
      "outputs": [],
      "source": [
        "for indice, valor in enumerate(professores):\n",
        "  print(indice, valor)"
      ]
    },
    {
      "cell_type": "markdown",
      "metadata": {
        "id": "kPltMtKN7e4B"
      },
      "source": [
        "###1.9. Excluir um item por deslocamento com del\n",
        "\n",
        "Vamos supor que professor Marildo tenha saído da instituição para fazer seu doutorado em Harvard. Para excluir da lista, basta utilizar a instrução `del`, do Python, informando qual item da lista deverá ser excluído. Para obter o item da lista, utilizamos seu índice."
      ]
    },
    {
      "cell_type": "code",
      "execution_count": null,
      "metadata": {
        "id": "ZRpG_e5AFQHw"
      },
      "outputs": [],
      "source": [
        "print(professores)"
      ]
    },
    {
      "cell_type": "code",
      "execution_count": null,
      "metadata": {
        "id": "DEcIlreH9ojI"
      },
      "outputs": [],
      "source": [
        "del professores[1]\n",
        "print(professores)"
      ]
    },
    {
      "cell_type": "code",
      "execution_count": null,
      "metadata": {
        "id": "MOb_fatKE04F"
      },
      "outputs": [],
      "source": [
        "del professores[-2]\n",
        "print(professores)"
      ]
    },
    {
      "cell_type": "markdown",
      "metadata": {
        "id": "vIhSi-ak9BSQ"
      },
      "source": [
        "Quando excluímos um item por sua posição na lista, os itens a seguir retornam para ocupar o espaço do item excluído e o comprimento da lista diminui em um."
      ]
    },
    {
      "cell_type": "markdown",
      "metadata": {
        "id": "CeTRuVXH9LsV"
      },
      "source": [
        "`del` é uma instrução Python, não um método de lista - você não diz `professores[-2] .del()`. É uma espécie de reverso da atribuição (=): desanexa um nome de um objeto Python e pode liberar a memória do objeto se esse nome foi a última referência a ele."
      ]
    },
    {
      "cell_type": "markdown",
      "metadata": {
        "id": "U1Sx47LU9a0C"
      },
      "source": [
        "###1.10 Excluir um item por valor com `remove()`\n",
        "\n",
        "Se você não tem certeza ou não se importa onde o item está na lista, use remove () para excluí-lo por valor. Por exemplo, vamos supor que o professor Carlos resolveu se aposentar e não mais ministrará aulas (um perda inestimável, aliás)."
      ]
    },
    {
      "cell_type": "code",
      "execution_count": null,
      "metadata": {
        "id": "d8mPpUEjG7U0"
      },
      "outputs": [],
      "source": [
        "print(professores)"
      ]
    },
    {
      "cell_type": "code",
      "execution_count": null,
      "metadata": {
        "id": "4bNHBvdb8dzC"
      },
      "outputs": [],
      "source": [
        "professores.remove('Lucimar')\n",
        "print(professores)"
      ]
    },
    {
      "cell_type": "markdown",
      "metadata": {
        "id": "yEh219og-LO-"
      },
      "source": [
        "### 1.11. Obter um item por sua posição e excluí-lo usando pop()\n",
        "\n",
        "Você pode obter um item de uma lista e excluí-lo da lista ao mesmo tempo usando `pop()`. Se você chamar `pop()` com um índice, ele retornará o item nesse deslocamento; sem argumento, ele usa -1. Portanto, `pop(0)` retorna a cabeça (início) da lista e `pop()` ou `pop(-1)` retorna a cauda (final), como mostrado no exemplo abaixo:"
      ]
    },
    {
      "cell_type": "code",
      "execution_count": null,
      "metadata": {
        "id": "I6NQ9llzXpp_"
      },
      "outputs": [],
      "source": [
        "professores = ['Henrique', 'Carlos', 'Djalma', 'Maura', 'Lucimar', 'Adriano', 'João']"
      ]
    },
    {
      "cell_type": "code",
      "execution_count": null,
      "metadata": {
        "id": "4ghIfGPP90Ff"
      },
      "outputs": [],
      "source": [
        "# Em uma reunião pedagógica, os professores devem fazer uma apresentação rápida sobre o tema de sua pesquisa na instituição.\n",
        "# Serão chamados sempre os últimos que chegaram na reunião.\n",
        "escolhido = professores.pop(1)\n",
        "print(escolhido)\n",
        "print(professores)"
      ]
    },
    {
      "cell_type": "markdown",
      "metadata": {
        "id": "TpluYSNk_bGw"
      },
      "source": [
        "#### Adiantando um pouco o conteúdo de Estrutura de Dados\n",
        "\n",
        "Se você usar `append()` para adicionar novos itens ao final e `pop()` para removê-los do mesmo lado, você implementou uma estrutura de dados conhecida como **pilha** **LIFO** (Last In, First Out - Último a Entrar, Primeiro a Sair). Entretanto, se você utilizar `pop(0)` você criará uma **fila** **FIFO** (First In, First Out - Primeiro a Entrar, Primeiro a Sair). Eles são úteis quando você deseja coletar dados à medida que eles chegam e trabalham com o primeiro mais antigo (FIFO) ou o mais novo primeiro (LIFO)."
      ]
    },
    {
      "cell_type": "markdown",
      "metadata": {
        "id": "ZlWprq4sAW-T"
      },
      "source": [
        "###1.12. Encontrar o deslocamento de um item por valor com `index()`\n",
        "\n",
        "Se você deseja conhecer o deslocamento de um item em uma lista por seu valor, use index(), como no exemplo abaixo:"
      ]
    },
    {
      "cell_type": "code",
      "execution_count": null,
      "metadata": {
        "id": "XXyRviDki3yq"
      },
      "outputs": [],
      "source": [
        "professores = ['Henrique', 'Carlos', 'Djalma', 'Maura', 'Lucimar', 'Adriano', 'João']"
      ]
    },
    {
      "cell_type": "code",
      "execution_count": null,
      "metadata": {
        "id": "9ESj5DopiedC"
      },
      "outputs": [],
      "source": [
        "print(professores)"
      ]
    },
    {
      "cell_type": "code",
      "execution_count": null,
      "metadata": {
        "id": "UKJUvyqN-9pR"
      },
      "outputs": [],
      "source": [
        "professores.index('Maura')"
      ]
    },
    {
      "cell_type": "code",
      "execution_count": null,
      "metadata": {
        "id": "uTSj5_mHiqyh"
      },
      "outputs": [],
      "source": [
        "professores.index('Valéria')"
      ]
    },
    {
      "cell_type": "markdown",
      "metadata": {
        "id": "539F92KOAv80"
      },
      "source": [
        "###1.13. Testar um valor com `in`\n",
        "\n",
        "A maneira Pythonic de verificar a existência de um valor em uma lista é bem simples. Veja no exemplo abaixo, e note que o mesmo valor pode estar em mais de uma posição na lista, portanto, enquanto estiver lá pelo menos uma vez, retornará True:"
      ]
    },
    {
      "cell_type": "code",
      "execution_count": null,
      "metadata": {
        "id": "7dW4r593JA55"
      },
      "outputs": [],
      "source": [
        "print(professores)"
      ]
    },
    {
      "cell_type": "code",
      "execution_count": null,
      "metadata": {
        "id": "z_ngVZK1ApKU"
      },
      "outputs": [],
      "source": [
        "'Henrique' in professores"
      ]
    },
    {
      "cell_type": "code",
      "execution_count": null,
      "metadata": {
        "id": "Jxwz2rPNBPIt"
      },
      "outputs": [],
      "source": [
        "'Valéria' in professores"
      ]
    },
    {
      "cell_type": "code",
      "execution_count": null,
      "metadata": {
        "id": "r1F-YWkBJOvx"
      },
      "outputs": [],
      "source": [
        "if 'Henrique' in professores:\n",
        "  professores.remove('Henrique')"
      ]
    },
    {
      "cell_type": "code",
      "execution_count": null,
      "metadata": {
        "id": "twrIBIJBH2EK"
      },
      "outputs": [],
      "source": [
        "print(professores)"
      ]
    },
    {
      "cell_type": "markdown",
      "metadata": {
        "id": "vaOqc-1qBkrv"
      },
      "source": [
        "###1.14.Contar ocorrências de um valor usando count ()\n",
        "\n",
        " Para contar quantas vezes um valor específico ocorre em uma lista, basta usar a função `count()`. Veja os exemplos abaixo:"
      ]
    },
    {
      "cell_type": "code",
      "execution_count": null,
      "metadata": {
        "id": "CxumSfUbBWdB"
      },
      "outputs": [],
      "source": [
        "professores.count('Henrique')"
      ]
    },
    {
      "cell_type": "code",
      "execution_count": null,
      "metadata": {
        "id": "gs43dEhWjaRp"
      },
      "outputs": [],
      "source": [
        "professores.append('Maura')"
      ]
    },
    {
      "cell_type": "code",
      "execution_count": null,
      "metadata": {
        "id": "2mbAjEOOCiAo"
      },
      "outputs": [],
      "source": [
        "professores.count('Maura')"
      ]
    },
    {
      "cell_type": "markdown",
      "metadata": {
        "id": "B-zYBnCHCso0"
      },
      "source": [
        "###1.15. Obter comprimento da lista usando `len()`\n",
        "\n",
        "Enquanto count() verifica a quantidade de ocorrência de um deteminado item dentro da lista, a função len() retorna o número de itens em uma lista. Veja o exemplo:"
      ]
    },
    {
      "cell_type": "code",
      "execution_count": null,
      "metadata": {
        "id": "SbJjJICCJgDC"
      },
      "outputs": [],
      "source": [
        "print(professores)"
      ]
    },
    {
      "cell_type": "code",
      "execution_count": null,
      "metadata": {
        "id": "_u6UM47MCmkE"
      },
      "outputs": [],
      "source": [
        "len(professores)"
      ]
    },
    {
      "cell_type": "markdown",
      "metadata": {
        "id": "LPW2i2xpE61L"
      },
      "source": [
        "###1.16. Reordenar itens com `sort()`\n",
        "\n",
        "Você geralmente precisará classificar os itens em uma lista por seus valores, e não por suas compensações. O Python fornece duas funções, quais sejam:\n",
        "- A função de lista sort() classifica a própria lista, no local.\n",
        "- A função geral classificada () retorna uma cópia classificada da lista.\n",
        "\n",
        "Se os itens da lista forem numéricos, serão classificados por padrão em ordem numérica crescente. Se forem strings, serão classificados em ordem alfabética."
      ]
    },
    {
      "cell_type": "code",
      "execution_count": null,
      "metadata": {
        "id": "3NN9azjCKa7l"
      },
      "outputs": [],
      "source": [
        "import random\n",
        "numeros = random.sample(range(0, 30), 10)\n",
        "numeros"
      ]
    },
    {
      "cell_type": "code",
      "execution_count": null,
      "metadata": {
        "id": "ClGYZ9UUKpQV"
      },
      "outputs": [],
      "source": [
        "numeros.sort()\n",
        "numeros"
      ]
    },
    {
      "cell_type": "code",
      "execution_count": null,
      "metadata": {
        "id": "ces0XD7GC_Xh"
      },
      "outputs": [],
      "source": [
        "lista_numeros = [1, 5, 2, 8, 12, 0]\n",
        "lista_numeros_ordenada = sorted(lista_numeros)\n",
        "\n",
        "print(lista_numeros)\n",
        "print(lista_numeros_ordenada)"
      ]
    },
    {
      "cell_type": "markdown",
      "metadata": {
        "id": "T0ugUFcWFsFp"
      },
      "source": [
        "A ordem de classificação padrão é crescente, mas você pode adicionar o argumento `reverse=True` na função `sort()` para defini-lo como decrescente. Veja o exemplo:"
      ]
    },
    {
      "cell_type": "code",
      "execution_count": null,
      "metadata": {
        "id": "0oxwuN0lEeNs"
      },
      "outputs": [],
      "source": [
        "numeros.sort(reverse=True)\n",
        "print(numeros)"
      ]
    },
    {
      "cell_type": "code",
      "execution_count": null,
      "metadata": {
        "id": "XThVkQ4VLtWb"
      },
      "outputs": [],
      "source": [
        "ordenados = sorted(numeros)\n",
        "print(numeros)\n",
        "print(ordenados)"
      ]
    },
    {
      "cell_type": "code",
      "execution_count": null,
      "metadata": {
        "id": "acUFGrVBHg5L"
      },
      "outputs": [],
      "source": [
        "ordenados = sorted(numeros, reverse=True)\n",
        "print(ordenados)"
      ]
    },
    {
      "cell_type": "code",
      "execution_count": null,
      "metadata": {
        "id": "57fuIavPL0Fa"
      },
      "outputs": [],
      "source": [
        "numeros[::-1]"
      ]
    },
    {
      "cell_type": "markdown",
      "metadata": {
        "id": "qxP-QnifGGrg"
      },
      "source": [
        "###1.17. Atribuir com =, Copiar com `copy()`\n",
        "\n",
        "Quando você atribui uma lista a mais de uma variável, alterar a lista em um local também a altera na outra, conforme ilustrado aqui:\n"
      ]
    },
    {
      "cell_type": "code",
      "execution_count": null,
      "metadata": {
        "id": "jJmijZoKM5ce"
      },
      "outputs": [],
      "source": [
        "a = 3\n",
        "b = a # cópia do valor\n",
        "b = 5\n",
        "print(a)\n",
        "print(b)"
      ]
    },
    {
      "cell_type": "code",
      "execution_count": null,
      "metadata": {
        "id": "dW7x_L0lGQGa"
      },
      "outputs": [],
      "source": [
        "lista_a = [1, 2, 3]\n",
        "lista_b = lista_a # cópia da referência\n",
        "\n",
        "lista_b[1] = 5\n",
        "\n",
        "print(lista_a)\n",
        "print(lista_b)"
      ]
    },
    {
      "cell_type": "markdown",
      "metadata": {
        "id": "4iXFXIH4iO93"
      },
      "source": [
        "**Ponteiro**: lista_b apenas se refere ao mesmo objeto de lista que lista_a; portanto, se alterarmos o conteúdo da lista usando o nome lista_a ou lista_b, isso será refletido em ambos."
      ]
    },
    {
      "cell_type": "markdown",
      "metadata": {
        "id": "0VsG9BsWiyqi"
      },
      "source": [
        "Você pode copiar os valores de uma lista para uma nova e independente usando qualquer um destes métodos:\n",
        "- A função de cópia de lista: `copy()`\n",
        "- A função de conversão de lista: `list()`\n",
        "- A fatia da lista [:]\n",
        "\n",
        "Usando as listas de exemplo criadas anteriormente. Criaremos uma cópia de lista_a em lista_b com a função copy(), lista_c com a função de conversão list()e lista_d com uma fatia da lista:"
      ]
    },
    {
      "cell_type": "code",
      "execution_count": null,
      "metadata": {
        "id": "z-PH5Gv9iJKo"
      },
      "outputs": [],
      "source": [
        "lista_a = [1, 2, 3]\n",
        "\n",
        "lista_b = lista_a.copy()\n",
        "lista_c = list(lista_a)\n",
        "lista_d = lista_a[:]"
      ]
    },
    {
      "cell_type": "markdown",
      "metadata": {
        "id": "bDhOi3Iejp2B"
      },
      "source": [
        "Novamente, lista_b, lista_c e lista_d são cópias de lista_a: são novos objetos com seus próprios valores e sem conexão com o objeto de lista original [1, 2, 3]ao qual a se refere. Alterar lista_a não afeta as cópias lista_b, lista_c e lista_d. Veja no exemplo:"
      ]
    },
    {
      "cell_type": "code",
      "execution_count": null,
      "metadata": {
        "id": "rY-IEmpwjmoa"
      },
      "outputs": [],
      "source": [
        "lista_a[0] = 5\n",
        "\n",
        "print(lista_a)\n",
        "print(lista_b)\n",
        "print(lista_c)\n",
        "print(lista_d)"
      ]
    }
  ],
  "metadata": {
    "colab": {
      "provenance": []
    },
    "kernelspec": {
      "display_name": ".venv (3.13.3)",
      "language": "python",
      "name": "python3"
    },
    "language_info": {
      "codemirror_mode": {
        "name": "ipython",
        "version": 3
      },
      "file_extension": ".py",
      "mimetype": "text/x-python",
      "name": "python",
      "nbconvert_exporter": "python",
      "pygments_lexer": "ipython3",
      "version": "3.13.3"
    }
  },
  "nbformat": 4,
  "nbformat_minor": 0
}
